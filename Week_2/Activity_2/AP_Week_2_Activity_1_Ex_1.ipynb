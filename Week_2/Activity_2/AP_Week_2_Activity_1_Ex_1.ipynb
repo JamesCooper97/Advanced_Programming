{
 "cells": [
  {
   "cell_type": "markdown",
   "metadata": {},
   "source": [
    "# 2.6 Activity 2: File processing"
   ]
  },
  {
   "cell_type": "markdown",
   "metadata": {},
   "source": [
    "\n",
    "Using the following PeopleTrainingData.csv write a Python program to parse (split) the content using string functions only and store it in an appropriate data structure. Print out a table with all the data using the following column headings (which are the first line in the css file): Title,Name,ID,Email,Company,Updated. Remember to consider readability and use formatting instructions in the output. "
   ]
  },
  {
   "cell_type": "code",
   "execution_count": null,
   "metadata": {},
   "outputs": [
    {
     "name": "stdout",
     "output_type": "stream",
     "text": [
      "   Title                  Name             ID  \\\n",
      "0    Mr.       Clarke, Nita Z.  16220630-3253   \n",
      "1    NaN       Cobb, Lenore G.  16190501-6752   \n",
      "2    Ms.      Burris, Naomi J.  16010323-3201   \n",
      "3    NaN     Wilson, Mariam X.  16450125-7713   \n",
      "4    Ms.       Martin, Zena K.  16750216-5116   \n",
      "..   ...                   ...            ...   \n",
      "73   NaN    Hardin, Griffin L.  16810107-4519   \n",
      "74   Ms.       Charles, Kim Y.  16840214-6545   \n",
      "75   Mr.  Gutierrez, Kameko Q.  16681023-3103   \n",
      "76   Ms.   Woodard, Preston O.  16641022-5210   \n",
      "77   Mr.    Briggs, Frances G.  16450121-0233   \n",
      "\n",
      "                                           Email  \\\n",
      "0         pharetra.Nam@egestashendreritneque.com   \n",
      "1   ullamcorper.Duis.cursus@vehiculaetrutrum.edu   \n",
      "2               amet.ante.Vivamus@arcuacorci.com   \n",
      "3                         ligula@velesttempor.ca   \n",
      "4          Nam.nulla.magna@massaIntegervitae.com   \n",
      "..                                           ...   \n",
      "73                   pharetra.nibh@ultricies.com   \n",
      "74                         eu.enim@enimnec.co.uk   \n",
      "75                 non.lobortis@quamquisdiam.com   \n",
      "76         ultrices.sit.amet@Loremipsumdolor.edu   \n",
      "77                     pede.sagittis@nisisem.net   \n",
      "\n",
      "                             Company     Updated  \n",
      "0         Aliquam Nec Enim Institute  01/04/2017  \n",
      "1         Turpis Egestas Aliquam Ltd  14/04/2017  \n",
      "2             A Malesuada Associates  27/04/2017  \n",
      "3                         Ligula LLP  28/04/2017  \n",
      "4               Volutpat Nulla Corp.  04/05/2017  \n",
      "..                               ...         ...  \n",
      "73  Velit Egestas Lacinia Foundation  20/09/2018  \n",
      "74                         Lacus LLP  27/09/2018  \n",
      "75                 Convallis Ante PC  29/10/2018  \n",
      "76                   In Faucibus LLC  30/10/2018  \n",
      "77            Lacinia At Iaculis Ltd  31/10/2018  \n",
      "\n",
      "[78 rows x 6 columns]\n"
     ]
    }
   ],
   "source": [
    "import pandas as pd\n",
    "\n",
    "df = pd.read_csv('PeopleTrainingData.csv')\n",
    "print(df)  # Displays the CSV as a DataFrame"
   ]
  },
  {
   "cell_type": "code",
   "execution_count": null,
   "metadata": {},
   "outputs": [
    {
     "data": {
      "text/plain": [
       "'Sorted_PeopleTrainingData.csv'"
      ]
     },
     "execution_count": 6,
     "metadata": {},
     "output_type": "execute_result"
    }
   ],
   "source": [
    "df['Updated'] = pd.to_datetime(df['Updated'], dayfirst=True) \n",
    "sorted_df = df.sort_values(by='Updated').reset_index(drop=True)\n",
    "\n",
    "sorted_df = sorted_df[['Updated', 'Title', 'Name', 'ID', 'Email', 'Company']]\n",
    "\n",
    "output_path = 'Sorted_PeopleTrainingData.csv'\n",
    "sorted_df.to_csv(output_path, index=False)\n"
   ]
  },
  {
   "cell_type": "code",
   "execution_count": null,
   "metadata": {},
   "outputs": [],
   "source": [
    "import pandas as pd\n",
    "\n",
    "df2 = pd.read_csv('PeopleTrainingDataUpdate.csv')\n",
    "print(df2)  # Displays the CSV as a DataFrame\n",
    "\n",
    "sorted_df2 = sorted_df2[['Updated', 'Title', 'Name', 'ID', 'Email', 'Company']]\n",
    "\n",
    "output_path = 'Sorted_PeopleTrainingData.csv'\n",
    "sorted_df2.to_csv(output_path, index=False)"
   ]
  }
 ],
 "metadata": {
  "kernelspec": {
   "display_name": "Python 3",
   "language": "python",
   "name": "python3"
  },
  "language_info": {
   "codemirror_mode": {
    "name": "ipython",
    "version": 3
   },
   "file_extension": ".py",
   "mimetype": "text/x-python",
   "name": "python",
   "nbconvert_exporter": "python",
   "pygments_lexer": "ipython3",
   "version": "3.12.6"
  }
 },
 "nbformat": 4,
 "nbformat_minor": 2
}
