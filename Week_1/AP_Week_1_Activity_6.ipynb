{
 "cells": [
  {
   "cell_type": "markdown",
   "id": "1cc9c7e9-ebff-42a5-be0c-0f3507ce066b",
   "metadata": {},
   "source": [
    "# 1.16 - Activity 6: Modules and Classes #"
   ]
  },
  {
   "cell_type": "markdown",
   "id": "b030d191-b96b-48fa-a45e-4e9c428845be",
   "metadata": {},
   "source": [
    "Practise writing modules and classes by completing the exercises below. Share your samples with your peers for feedback and discussion on the Week 1: Lab Week 1: Lab. You can either upload files or use Google Collaboratory to share links to your work and receive feedback directly on your code. Also, use the board if you have any questions or your code does not do what you expect.\n",
    "\n",
    "Review your peers' solutions and provide constructive feedback to at least two other students to help them develop. Reflect on the feedback you receive and identify your strengths and weakness to help you become a more effective programmer. To do this you might make a comparison with others’ solutions and suggested answers, make corrections, look for patterns in the aspects you struggle with and do well in and note aspects to remember or try to apply in the future.\n",
    "\n",
    "When choosing a post to comment on:\n",
    "\n",
    "please try and choose a student's post which has no comments\n",
    "if all posts have a comment, move on to selecting one which only has one comment rather than two.\n",
    "try to build on existing comments when posting a second comment.\n",
    "Please make sure you label your post clearly e.g. 'Activity 6 - Modules and Classes', when posting your answers."
   ]
  },
  {
   "cell_type": "markdown",
   "id": "315e4199-8988-485d-b8f9-329f6f1ed7a1",
   "metadata": {},
   "source": [
    "## Exercise one ##\n",
    "Write a module that provides the following conversions:\n",
    "\n",
    "Length - feet (') and inches ('') to meters (m)\n",
    "Mass - pounds (lbs) to kilograms (kg)\n",
    "Temperature - Kelvin (K) to Celsius (oC)\n",
    "Time - hours (h) and minutes(m) to seconds (s)\n",
    "Each calculation should be within its own function, with the module, so you will write eight functions altogether. Write a program that provides a suitable menu system for your conversion functions. This program should import the module and access the functions (functions should not be defined in the same file as the user interface). You will need to carefully consider how the user enters information and the upper and lower bounds (valid range) for each type of conversion. For example, the temperature cannot go below 0o Kelvin. \n",
    "\n",
    "HINT: if you are not sure how to use multiple files review the Getting Started instructions."
   ]
  },
  {
   "cell_type": "markdown",
   "id": "ef8496ee-2f04-447a-a417-83aacbe0a770",
   "metadata": {},
   "source": [
    "The below functions are saved to a file called conversions.py\n",
    "```\n",
    "def feet_inches_to_meters(feet, inches):\n",
    "    if feet < 0 or inches < 0 or inches >= 12:\n",
    "        raise ValueError(\"Feet must be >= 0, and inches must be between 0 and 11\")\n",
    "    meters = feet * 0.3048 + inches * 0.0254\n",
    "    return meters\n",
    "\n",
    "def meters_to_feet_inches(meters):\n",
    "    if meters < 0:\n",
    "        raise ValueError(\"Meters must be >= 0\")\n",
    "    total_inches = meters / 0.0254\n",
    "    feet = int(total_inches // 12)\n",
    "    inches = total_inches % 12\n",
    "    return feet, inches\n",
    "\n",
    "def pounds_to_kilograms(pounds):\n",
    "    if pounds < 0:\n",
    "        raise ValueError(\"Pounds must be >= 0\")\n",
    "    kilograms = pounds * 0.453592\n",
    "    return kilograms\n",
    "\n",
    "def kilograms_to_pounds(kilograms):\n",
    "    if kilograms < 0:\n",
    "        raise ValueError(\"Kilograms must be >= 0\")\n",
    "    pounds = kilograms / 0.453592\n",
    "    return pounds\n",
    "\n",
    "def kelvin_to_celsius(kelvin):\n",
    "    if kelvin < 0:\n",
    "        raise ValueError(\"Kelvin cannot be below 0\")\n",
    "    celsius = kelvin - 273.15\n",
    "    return celsius\n",
    "\n",
    "def celsius_to_kelvin(celsius):\n",
    "    kelvin = celsius + 273.15\n",
    "    if kelvin < 0:\n",
    "        raise ValueError(\"Celsius is too low, resulting in negative Kelvin.\")\n",
    "    return kelvin\n",
    "\n",
    "def hours_minutes_to_seconds(hours, minutes):\n",
    "    if hours < 0 or minutes < 0 or minutes >= 60:\n",
    "        raise ValueError(\"Hours must be >= 0, and minutes must be between 0 and 59.\")\n",
    "    seconds = (hours * 3600) + (minutes * 60)\n",
    "    return seconds\n",
    "\n",
    "def seconds_to_hours_minutes(seconds):\n",
    "    if seconds < 0:\n",
    "        raise ValueError(\"Seconds must be >= 0.\")\n",
    "    hours = seconds // 3600\n",
    "    minutes = (seconds % 3600) // 60\n",
    "    return hours, minutes\n",
    "```"
   ]
  },
  {
   "cell_type": "code",
   "execution_count": 3,
   "id": "9674a7f2-049b-4975-a981-2ae5068984f3",
   "metadata": {},
   "outputs": [
    {
     "name": "stdout",
     "output_type": "stream",
     "text": [
      "\n",
      "Conversion Menu:\n",
      "1. Convert feet and inches to meters\n",
      "2. Convert meters to feet and inches\n",
      "3. Convert pounds to kilograms\n",
      "4. Convert kilograms to pounds\n",
      "5. Convert Kelvin to Celsius\n",
      "6. Convert Celsius to Kelvin\n",
      "7. Convert hours and minutes to seconds\n",
      "8. Convert seconds to hours and minutes\n",
      "9. Exit\n"
     ]
    },
    {
     "name": "stdin",
     "output_type": "stream",
     "text": [
      "Choose an option (1-9):  1\n",
      "Enter feet:  2\n",
      "Enter inches:  2\n"
     ]
    },
    {
     "name": "stdout",
     "output_type": "stream",
     "text": [
      "Meters: 0.6604\n",
      "\n",
      "Conversion Menu:\n",
      "1. Convert feet and inches to meters\n",
      "2. Convert meters to feet and inches\n",
      "3. Convert pounds to kilograms\n",
      "4. Convert kilograms to pounds\n",
      "5. Convert Kelvin to Celsius\n",
      "6. Convert Celsius to Kelvin\n",
      "7. Convert hours and minutes to seconds\n",
      "8. Convert seconds to hours and minutes\n",
      "9. Exit\n"
     ]
    },
    {
     "name": "stdin",
     "output_type": "stream",
     "text": [
      "Choose an option (1-9):  9\n"
     ]
    },
    {
     "name": "stdout",
     "output_type": "stream",
     "text": [
      "Exiting the program.\n"
     ]
    }
   ],
   "source": [
    "import conversions\n",
    "\n",
    "# main.py\n",
    "\n",
    "import conversions\n",
    "\n",
    "def main():\n",
    "    while True:\n",
    "        print(\"Conversion Menu:\")\n",
    "        print(\"1. Convert feet and inches to meters\")\n",
    "        print(\"2. Convert meters to feet and inches\")\n",
    "        print(\"3. Convert pounds to kilograms\")\n",
    "        print(\"4. Convert kilograms to pounds\")\n",
    "        print(\"5. Convert Kelvin to Celsius\")\n",
    "        print(\"6. Convert Celsius to Kelvin\")\n",
    "        print(\"7. Convert hours and minutes to seconds\")\n",
    "        print(\"8. Convert seconds to hours and minutes\")\n",
    "        print(\"9. Exit\")\n",
    "\n",
    "        choice = input(\"Choose an option (1-9): \")\n",
    "\n",
    "        try:\n",
    "            if choice == \"1\":\n",
    "                feet = float(input(\"Enter feet: \"))\n",
    "                inches = float(input(\"Enter inches: \"))\n",
    "                print(\"Meters:\", conversions.feet_inches_to_meters(feet, inches))\n",
    "\n",
    "            elif choice == \"2\":\n",
    "                meters = float(input(\"Enter meters: \"))\n",
    "                feet, inches = conversions.meters_to_feet_inches(meters)\n",
    "                print(f\"Feet: {feet}, Inches: {inches:.2f}\")\n",
    "\n",
    "            elif choice == \"3\":\n",
    "                pounds = float(input(\"Enter pounds: \"))\n",
    "                print(\"Kilograms:\", conversions.pounds_to_kilograms(pounds))\n",
    "\n",
    "            elif choice == \"4\":\n",
    "                kilograms = float(input(\"Enter kilograms: \"))\n",
    "                print(\"Pounds:\", conversions.kilograms_to_pounds(kilograms))\n",
    "\n",
    "            elif choice == \"5\":\n",
    "                kelvin = float(input(\"Enter Kelvin: \"))\n",
    "                print(\"Celsius:\", conversions.kelvin_to_celsius(kelvin))\n",
    "\n",
    "            elif choice == \"6\":\n",
    "                celsius = float(input(\"Enter Celsius: \"))\n",
    "                print(\"Kelvin:\", conversions.celsius_to_kelvin(celsius))\n",
    "\n",
    "            elif choice == \"7\":\n",
    "                hours = int(input(\"Enter hours: \"))\n",
    "                minutes = int(input(\"Enter minutes: \"))\n",
    "                print(\"Seconds:\", conversions.hours_minutes_to_seconds(hours, minutes))\n",
    "\n",
    "            elif choice == \"8\":\n",
    "                seconds = int(input(\"Enter seconds: \"))\n",
    "                hours, minutes = conversions.seconds_to_hours_minutes(seconds)\n",
    "                print(f\"Hours: {hours}, Minutes: {minutes}\")\n",
    "\n",
    "            elif choice == \"9\":\n",
    "                print(\"Exiting the program.\")\n",
    "                break\n",
    "\n",
    "            else:\n",
    "                print(\"Invalid choice. Please try again.\")\n",
    "\n",
    "        except ValueError as e:\n",
    "            print(\"Error:\", e)\n",
    "\n",
    "if __name__ == \"__main__\":\n",
    "    main()"
   ]
  },
  {
   "cell_type": "markdown",
   "id": "d46b9f5b-a1b3-4f34-932c-7d0e524ca6b1",
   "metadata": {},
   "source": [
    "## Exercise two ##\n",
    "Copy the code used in the examples above and extend it in the following ways:\n",
    "\n",
    "Create a Name class that has the attributes firstName, surname, title and otherNames. You will need to use a suitable data structure for other names. \n",
    "Write a method in the class called formalName() that will output a name in the following format:\n",
    "Mr J. S. Greenhold or Mr J. Greenhold if there are no middle names.\n",
    "Use the Name class within a Person object to demonstrate composition.\n",
    "Create a sub-class of Student for DistanceStudent and add the attribute currentModule.\n",
    "Using this structure and any other appropriate methods, create a DistanceStudent and printout the following:\n",
    "Mr J. S. Greenhold is currently studying the Advanced Programming module."
   ]
  },
  {
   "cell_type": "code",
   "execution_count": 10,
   "id": "aea115c4-a57d-42bd-90eb-67bf3fe57fd6",
   "metadata": {},
   "outputs": [
    {
     "name": "stdout",
     "output_type": "stream",
     "text": [
      "Mr H. Bartlet\n",
      "Mr H. Bartlet is currently studying the AP module.\n"
     ]
    }
   ],
   "source": [
    "class Name (object):\n",
    "    \n",
    "    def __init__(self, title, first_name, surname, other_names=None):\n",
    "        self.firstName = first_name\n",
    "        self.surname = surname\n",
    "        self.title = title\n",
    "        self.otherNames = otherNames if other_names else []\n",
    "\n",
    "    def formalName(self):\n",
    "        initials = [self.firstName[0] + \".\"]\n",
    "        initials.extend([name[0] + \".\" for name in self.otherNames])\n",
    "        formatted_name = f\"{self.title} {' '.join(initials)} {self.surname}\"\n",
    "        return formatted_name\n",
    "\n",
    "harryName = Name(\"Mr\",\"Harry\",\"Bartlet\")\n",
    "print(harryName.formalName())\n",
    "\n",
    "class Person(object):\n",
    "    def __init__(self, name):\n",
    "        self.name = name\n",
    "\n",
    "class Student(Person):\n",
    "    def __init__(self, name):\n",
    "        super().__init__(name)\n",
    "\n",
    "class DistanceStudent(Student):\n",
    "    def __init__(self, name, currentModule):\n",
    "        super().__init__(name)\n",
    "        self.currentModule = currentModule\n",
    "\n",
    "    def print_current_study(self):\n",
    "        print(f\"{self.name.formalName()} is currently studying the {self.currentModule} module.\")\n",
    "\n",
    "distance_student = DistanceStudent(harryName, \"AP\")\n",
    "distance_student.print_current_study()"
   ]
  },
  {
   "cell_type": "code",
   "execution_count": null,
   "id": "55224671-c10e-4d8c-b104-33297167ef0c",
   "metadata": {},
   "outputs": [],
   "source": []
  }
 ],
 "metadata": {
  "kernelspec": {
   "display_name": "Python 3 (ipykernel)",
   "language": "python",
   "name": "python3"
  },
  "language_info": {
   "codemirror_mode": {
    "name": "ipython",
    "version": 3
   },
   "file_extension": ".py",
   "mimetype": "text/x-python",
   "name": "python",
   "nbconvert_exporter": "python",
   "pygments_lexer": "ipython3",
   "version": "3.12.6"
  }
 },
 "nbformat": 4,
 "nbformat_minor": 5
}
