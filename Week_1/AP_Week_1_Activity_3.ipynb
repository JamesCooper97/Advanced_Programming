{
 "cells": [
  {
   "cell_type": "markdown",
   "id": "52e3e823-2831-42c8-933c-6c54bb32f95a",
   "metadata": {},
   "source": [
    "# 1.10 Activity 3: Strings and I/O #"
   ]
  },
  {
   "cell_type": "markdown",
   "id": "c7fdaf1d-f8a7-46dc-8c6a-6d712786047d",
   "metadata": {},
   "source": [
    "Practise formatting strings by having a go at the three exercises below. Share your samples with your peers for feedback and discussion on the Week 1: Lab Week 1: Lab board. You can either upload files or add use Google Colaboratory to share links to your work and receive feedback directly on your code. Also, use the  board if you have any questions or your code does not do what you expect. \n",
    "\n",
    "Review your peers' solutions and provide constructive feedback to at least two other students to help them develop. Reflect on the feedback you receive and identify your strengths and weaknesses to help you become a more effective programmer. To do this you might make a comparison with others’ solutions and suggested answers, make corrections, look for patterns in the aspects you struggle with and do well in, and note aspects to remember or try to apply in the future.\n",
    "\n",
    "When choosing a post to comment on:\n",
    "\n",
    "please try and choose a student's post which has no comments\n",
    "if all posts have a comment, move on to selecting one which only has one comment rather than two.\n",
    "try to build on existing comments when posting a second comment.\n",
    "Please make sure you label your post clearly e.g. 'Activity 3 - Strings and I/O', when posting your answers."
   ]
  },
  {
   "cell_type": "markdown",
   "id": "74d28d23-6cdc-4e04-953f-9582cab3264c",
   "metadata": {},
   "source": [
    "## Exercise one\n",
    "\n",
    "Write a program that outputs a times table from a given (user entered) integer value. It should start at 2 and output only the EVEN multiples. If the user entered the value 13, the even times table would be outputted in the following format:\n",
    "\n",
    "```\n",
    "The even timetable for 13 is: \n",
    "        2 times 13 is 26\n",
    "        4 times 13 is 52\n",
    "        6 times 13 is 78\n",
    "```\n",
    "\n",
    "This program should continue until the user chooses to exit. You should format this so that the text “times” and “is” is always in the same column. The program should output up to and including 20 times the user value."
   ]
  },
  {
   "cell_type": "code",
   "execution_count": 3,
   "id": "a45529ac-818d-4b09-ad21-7c2c9679df2d",
   "metadata": {},
   "outputs": [
    {
     "name": "stdin",
     "output_type": "stream",
     "text": [
      "Enter an integer or type exit to quit 12\n"
     ]
    },
    {
     "name": "stdout",
     "output_type": "stream",
     "text": [
      "The even timetable for 12 is:\n",
      " 2 time 12 is   24\n",
      " 4 time 12 is   48\n",
      " 6 time 12 is   72\n",
      " 8 time 12 is   96\n",
      "10 time 12 is  120\n",
      "12 time 12 is  144\n",
      "14 time 12 is  168\n",
      "16 time 12 is  192\n",
      "18 time 12 is  216\n",
      "20 time 12 is  240\n"
     ]
    },
    {
     "name": "stdin",
     "output_type": "stream",
     "text": [
      "Enter an integer or type exit to quit 11\n"
     ]
    },
    {
     "name": "stdout",
     "output_type": "stream",
     "text": [
      "The even timetable for 11 is:\n",
      " 2 time 11 is   22\n",
      " 4 time 11 is   44\n",
      " 6 time 11 is   66\n",
      " 8 time 11 is   88\n",
      "10 time 11 is  110\n",
      "12 time 11 is  132\n",
      "14 time 11 is  154\n",
      "16 time 11 is  176\n",
      "18 time 11 is  198\n",
      "20 time 11 is  220\n"
     ]
    },
    {
     "name": "stdin",
     "output_type": "stream",
     "text": [
      "Enter an integer or type exit to quit 54\n"
     ]
    },
    {
     "name": "stdout",
     "output_type": "stream",
     "text": [
      "The even timetable for 54 is:\n",
      " 2 time 54 is  108\n",
      " 4 time 54 is  216\n",
      " 6 time 54 is  324\n",
      " 8 time 54 is  432\n",
      "10 time 54 is  540\n",
      "12 time 54 is  648\n",
      "14 time 54 is  756\n",
      "16 time 54 is  864\n",
      "18 time 54 is  972\n",
      "20 time 54 is 1080\n"
     ]
    },
    {
     "name": "stdin",
     "output_type": "stream",
     "text": [
      "Enter an integer or type exit to quit exit\n"
     ]
    },
    {
     "name": "stdout",
     "output_type": "stream",
     "text": [
      "program terminated\n"
     ]
    }
   ],
   "source": [
    "def times_table(number, multiplier=2):\n",
    "    if multiplier > 20:\n",
    "        return\n",
    "    print(f\"{multiplier:>2} time {number} is {multiplier*number:>4}\")\n",
    "    times_table(number, multiplier+2)\n",
    "\n",
    "def main():\n",
    "    while True:\n",
    "        try:\n",
    "            user_input = input(\"Enter an integer or type exit to quit\")\n",
    "            if user_input.lower() == 'exit':\n",
    "                print(\"program terminated\")\n",
    "                break\n",
    "            number = int(user_input)\n",
    "            print(f\"The even timetable for {number} is:\")\n",
    "            times_table(number)\n",
    "        except ValueError:\n",
    "            print(\"Please enter a valid number or type 'exit' to quit\")\n",
    "\n",
    "main()"
   ]
  },
  {
   "cell_type": "markdown",
   "id": "0cc90383-d94a-445e-aa72-340521e336ed",
   "metadata": {},
   "source": [
    "## Exercise two\n",
    "In the sample code given for 'Iteration' in 1.1, there is a program for printing out a left-sided triangle of stars. \n",
    "\n",
    "Adapt the code to create a right-sided triangle.\n",
    "Adapt the code to output a diamond.\n",
    "Write a menu system so the user can choose the left or right-sided triangle, or diamond.\n",
    "Enable the program to take user input for the symbol used to generate the pattern and dictate the size of the pattern.\n",
    "The output from the program should look like this: \n",
    "\n",
    "```\n",
    "                                                *\n",
    "      *                      *                 ***\n",
    "      **                    **                *****\n",
    "      ***                  ***                 ***\n",
    "      ****                ****                  *\n",
    "  Left-sided           Right-sided           Diamond\n",
    "```"
   ]
  },
  {
   "cell_type": "code",
   "execution_count": 4,
   "id": "d5eae19f-6743-4d7b-99e8-2fe087a77ee0",
   "metadata": {},
   "outputs": [
    {
     "name": "stdout",
     "output_type": "stream",
     "text": [
      "Select Your Style\n",
      "1. Left-sided\n",
      "2. Right-sided\n",
      "3. Diamond\n",
      "4. Exit\n"
     ]
    },
    {
     "name": "stdin",
     "output_type": "stream",
     "text": [
      "Enter your choice (1-4): 1\n",
      "Enter the symbol to use:  t\n",
      "Enter amount 5\n"
     ]
    },
    {
     "name": "stdout",
     "output_type": "stream",
     "text": [
      "Build a left sided traingle\n",
      "t\n",
      "tt\n",
      "ttt\n",
      "tttt\n",
      "ttttt\n",
      "Select Your Style\n",
      "1. Left-sided\n",
      "2. Right-sided\n",
      "3. Diamond\n",
      "4. Exit\n"
     ]
    },
    {
     "name": "stdin",
     "output_type": "stream",
     "text": [
      "Enter your choice (1-4): 4\n"
     ]
    },
    {
     "name": "stdout",
     "output_type": "stream",
     "text": [
      "Quitting\n"
     ]
    }
   ],
   "source": [
    "def left_sided(symbol, size):\n",
    "    print(\"Build a left sided traingle\")\n",
    "    for i in range(1, size + 1):\n",
    "        print(symbol*i)\n",
    "\n",
    "def right_sided(symbol, size):\n",
    "    print(\"Build a right sided traingle\")\n",
    "    for i in range(1, size + 1):\n",
    "        print(\" \" * (size-1) + symbol * i)\n",
    "\n",
    "def diamond(symbol, size):\n",
    "    print(\"Build a diamond traingle\")\n",
    "    for i in range(1, size + 1):\n",
    "        print(\" \" * (size - 1) + symbol * (2 * i - 1))\n",
    "    for i in range(size - 1, 0, -1):\n",
    "        print(\" \" * (size - i) + symbol * (2 * i - 1))\n",
    "\n",
    "def display_menu():\n",
    "    print(\"Select Your Style\")\n",
    "    print(\"1. Left-sided\")\n",
    "    print(\"2. Right-sided\")\n",
    "    print(\"3. Diamond\")\n",
    "    print(\"4. Exit\")\n",
    "\n",
    "def main():\n",
    "    while True:\n",
    "        display_menu()\n",
    "        choice = input(\"Enter your choice (1-4):\")\n",
    "\n",
    "        if choice == '4':\n",
    "            print(\"Quitting\")\n",
    "            break\n",
    "\n",
    "        symbol = input(\"Enter the symbol to use: \")\n",
    "        try:\n",
    "            size = int(input(\"Enter amount\"))\n",
    "        except ValueError:\n",
    "            print(\"Invalid input, enter an integer\")\n",
    "            continue\n",
    "\n",
    "        if choice == '1':\n",
    "            left_sided(symbol, size)\n",
    "        elif choice == '2':\n",
    "            right_sided(symbol, size)\n",
    "        elif choice == '3':\n",
    "            diamond(symbol, size)\n",
    "        else:\n",
    "            print(\"Invalid selection, please enter a value between 1 and 4\")\n",
    "\n",
    "if __name__ == \"__main__\":\n",
    "    main()"
   ]
  },
  {
   "cell_type": "markdown",
   "id": "4336d372-5d5f-499e-9b08-0ad56f5029a7",
   "metadata": {},
   "source": [
    "## Exercise three\n",
    "Write a program that outputs a calendar, given two values inputted by the user. If the user inputs the values of 30 and 7, the following structure will be produced, where 30 generates the number of days in the month and 7 (Sunday) indicates which day of the week the calendar starts on. The user should only be able to input a valid range of numbers, and regardless of the values entered the calendar should always output 7 lines (even if some of them are blank). \n",
    "```\n",
    "  M   T   W  Th   F   S  Su\n",
    "                          1\n",
    "  2   3   4   5   6   7   8\n",
    "  9  10  11  12  13  14  15\n",
    " 16  17  18  19  20  21  22\n",
    " 23  24  25  26  27  28  29\n",
    " 30\n",
    "```"
   ]
  },
  {
   "cell_type": "code",
   "execution_count": 17,
   "id": "1ddb42dd-e340-497d-b2bf-8828d9ae171b",
   "metadata": {},
   "outputs": [
    {
     "name": "stdin",
     "output_type": "stream",
     "text": [
      "Enter the number of days in the month (28-31):  31\n",
      "Enter the starting day (1 for Monday, ..., 7 for Sunday):  2\n"
     ]
    },
    {
     "name": "stdout",
     "output_type": "stream",
     "text": [
      " M   T   W  Th   F   S  Su\n",
      "     1   2   3   4   5   6\n",
      " 7   8   9  10  11  12  13\n",
      "14  15  16  17  18  19  20\n",
      "21  22  23  24  25  26  27\n",
      "28  29  30  31               \n"
     ]
    }
   ],
   "source": [
    "def print_calendar(days_in_month, start_day):\n",
    "    print(\" M   T   W  Th   F   S  Su\")\n",
    "\n",
    "    day = 1\n",
    "    current_week = [\"  \"] * 7\n",
    "\n",
    "    for i in range(start_day - 1, 7):\n",
    "        current_week[i] = f\"{day:>2}\"\n",
    "        day += 1\n",
    "\n",
    "    print(\"  \".join(current_week))\n",
    "\n",
    "    while day <= days_in_month:\n",
    "        current_week = []\n",
    "        for i in range(7):\n",
    "            if day <= days_in_month:\n",
    "                current_week.append(f\"{day:>2}\")\n",
    "                day +=1\n",
    "            else:\n",
    "                current_week.append(\"   \")\n",
    "        print(\"  \".join(current_week))\n",
    "\n",
    "def main():\n",
    "    while True:\n",
    "        try:\n",
    "            days_in_month = int(input(\"Enter the number of days in the month (28-31): \"))\n",
    "            if days_in_month not in range(28, 32):\n",
    "                print(\"Invalid number of days. Please enter a value between 28 and 31.\")\n",
    "                continue\n",
    "\n",
    "            start_day = int(input(\"Enter the starting day (1 for Monday, ..., 7 for Sunday): \"))\n",
    "            if start_day not in range(1, 8):\n",
    "                print(\"Invalid starting day. Please enter a value between 1 and 7.\")\n",
    "                continue\n",
    "\n",
    "            # Print the calendar\n",
    "            print_calendar(days_in_month, start_day)\n",
    "            break\n",
    "        except ValueError:\n",
    "            print(\"Invalid input. Please enter integer values.\")\n",
    "\n",
    "if __name__ == \"__main__\":\n",
    "    main()\n",
    "        \n",
    "    "
   ]
  },
  {
   "cell_type": "code",
   "execution_count": null,
   "id": "7f0d97a2-1561-47f3-b8d1-7c17b60bea60",
   "metadata": {},
   "outputs": [],
   "source": []
  }
 ],
 "metadata": {
  "kernelspec": {
   "display_name": "Python 3 (ipykernel)",
   "language": "python",
   "name": "python3"
  },
  "language_info": {
   "codemirror_mode": {
    "name": "ipython",
    "version": 3
   },
   "file_extension": ".py",
   "mimetype": "text/x-python",
   "name": "python",
   "nbconvert_exporter": "python",
   "pygments_lexer": "ipython3",
   "version": "3.12.6"
  }
 },
 "nbformat": 4,
 "nbformat_minor": 5
}
