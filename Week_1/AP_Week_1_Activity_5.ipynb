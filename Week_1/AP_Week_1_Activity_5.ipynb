{
 "cells": [
  {
   "cell_type": "markdown",
   "id": "9301a179-b75f-4e38-b9ee-0f6e4466b781",
   "metadata": {},
   "source": [
    "# 1.14 Activity 5: Functions"
   ]
  },
  {
   "cell_type": "markdown",
   "id": "41cbd96a-32fd-4c1a-8c33-e909d00233da",
   "metadata": {},
   "source": [
    "Practise using functions by having a go at the three exercises below. Share your samples with your peers for feedback and discussion on the Week 1: Lab Week 1: Lab. You can either upload files or use Google Colaboratory to share links to your work and receive feedback directly on your code. Also, use the board if you have any questions or your code does not do what you expect.\n",
    "\n",
    "Review your peers' solutions and provide constructive feedback to at least two other students to help them develop. Reflect on the feedback you receive and identify your strengths and weaknesses to help you become a more effective programmer. To do this you might make a comparison with others’ solutions and suggested answers, make corrections, look for patterns in the aspects you struggle with and do well in and note aspects to remember or try to apply in the future.\n",
    "\n",
    "When choosing a post to comment on:\n",
    "\n",
    "please try and choose a student's post which has no comments\n",
    "if all posts have a comment, move on to selecting one which only has one comment rather than two.\n",
    "try to build on existing comments when posting a second comment.\n",
    "Please make sure you label your post clearly e.g. 'Activity 5 - Functions', when posting your answers."
   ]
  },
  {
   "cell_type": "markdown",
   "id": "67e9ed40-fb5e-472f-9cbb-8c789174efb2",
   "metadata": {},
   "source": [
    "## Exercise one ##\n",
    "Write a program in Python that asks the user for a sentence and analyses it to establish the number of separate vowels (A, E, I, O, U) and the number of “other” non-space characters contained in the sentence. Your program should output a histogram which indicates a * (star) for each vowel character, followed by a statement indicating the number of other non-space characters.\n",
    "\n",
    "For example, if the input was: \n",
    "\n",
    "The black cat sat up on the orange mat!\n",
    "\n",
    "The output would be:\n",
    "```\n",
    "A: *****\n",
    "E: ***\n",
    "I:\n",
    "O: **\n",
    "U: *\n",
    "Other (non-space) Characters: 20\n",
    "```"
   ]
  },
  {
   "cell_type": "code",
   "execution_count": 3,
   "id": "fd55491d-64b5-4d6b-b434-13a08d195b05",
   "metadata": {},
   "outputs": [
    {
     "name": "stdin",
     "output_type": "stream",
     "text": [
      "Enter a sentence:  hhshr65\n"
     ]
    },
    {
     "name": "stdout",
     "output_type": "stream",
     "text": [
      "A: \n",
      "E: \n",
      "I: \n",
      "O: \n",
      "U: \n",
      "Other (non-space) Characters: 7\n"
     ]
    }
   ],
   "source": [
    "def analyze_sentence(sentence):\n",
    "    \n",
    "    sentence = sentence.upper()\n",
    "\n",
    "    vowels = {'A': 0, 'E': 0, 'I': 0, 'O': 0, 'U': 0}\n",
    "    other_characters = 0\n",
    "\n",
    "    for char in sentence:\n",
    "        if char in vowels:\n",
    "            vowels[char] += 1\n",
    "        elif char.isalpha() or char.isdigit() or char in \"!@#$%^&*()-_=+[]{};:'\\\",.<>/?\\\\|`~\":\n",
    "            other_characters += 1\n",
    "\n",
    "    for vowel, count in vowels.items():\n",
    "        print(f\"{vowel}: {'*' * count}\")\n",
    "\n",
    "    print(f\"Other (non-space) Characters: {other_characters}\")\n",
    "\n",
    "# Ask the user for a sentence\n",
    "sentence = input(\"Enter a sentence: \")\n",
    "analyze_sentence(sentence)\n"
   ]
  },
  {
   "cell_type": "markdown",
   "id": "e7641acd-f09f-4c0e-9d1a-a5f587d85c30",
   "metadata": {},
   "source": [
    "## Exercise two ##\n",
    "Write a program in Python that checks if two inputted words are ‘anagrams’. If the user inputs ‘note’ and ‘tone’, the program would output “These are anagrams”. If the user entered 'cat' and 'sat' the program would output \"These are not anagrams\". Your program should contain a function “isAnagram()” that returns either true or false. The main part of the program should provide a suitable interface for the user. "
   ]
  },
  {
   "cell_type": "code",
   "execution_count": 4,
   "id": "2bb020d1-5854-4e49-b2fa-fb750fb3e05d",
   "metadata": {},
   "outputs": [
    {
     "name": "stdin",
     "output_type": "stream",
     "text": [
      "Enter first word:  abc\n",
      "Enter second word:  cab\n"
     ]
    },
    {
     "name": "stdout",
     "output_type": "stream",
     "text": [
      "These are anagrams\n"
     ]
    }
   ],
   "source": [
    "def isAnagram(first, second):\n",
    "\n",
    "    return sorted(first.lower()) == sorted(second.lower())\n",
    "\n",
    "def main():\n",
    "    first = input(\"Enter first word: \")\n",
    "    second = input(\"Enter second word: \")\n",
    "\n",
    "    if isAnagram(first, second):\n",
    "        print(\"These are anagrams\")\n",
    "    else:\n",
    "        print(\"These are not anagrams\")\n",
    "\n",
    "main()\n",
    "            "
   ]
  },
  {
   "cell_type": "code",
   "execution_count": null,
   "id": "de55df74-c910-47a6-b23e-a1ad925c111c",
   "metadata": {},
   "outputs": [],
   "source": []
  }
 ],
 "metadata": {
  "kernelspec": {
   "display_name": "Python 3 (ipykernel)",
   "language": "python",
   "name": "python3"
  },
  "language_info": {
   "codemirror_mode": {
    "name": "ipython",
    "version": 3
   },
   "file_extension": ".py",
   "mimetype": "text/x-python",
   "name": "python",
   "nbconvert_exporter": "python",
   "pygments_lexer": "ipython3",
   "version": "3.12.6"
  }
 },
 "nbformat": 4,
 "nbformat_minor": 5
}
